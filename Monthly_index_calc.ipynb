{
  "nbformat": 4,
  "nbformat_minor": 0,
  "metadata": {
    "colab": {
      "name": "Monthly index calc.ipynb",
      "provenance": [],
      "collapsed_sections": [],
      "mount_file_id": "1Aq5Uv7eHhtTJMO1oAan1l6mn9Yejr5bS",
      "authorship_tag": "ABX9TyOoZXDo2ocbQ9mqJhyx0A3Z",
      "include_colab_link": true
    },
    "kernelspec": {
      "name": "python3",
      "display_name": "Python 3"
    },
    "language_info": {
      "name": "python"
    }
  },
  "cells": [
    {
      "cell_type": "markdown",
      "metadata": {
        "id": "view-in-github",
        "colab_type": "text"
      },
      "source": [
        "<a href=\"https://colab.research.google.com/github/ADv0rnik/Data-analysis-for-JER/blob/main/Monthly_index_calc.ipynb\" target=\"_parent\"><img src=\"https://colab.research.google.com/assets/colab-badge.svg\" alt=\"Open In Colab\"/></a>"
      ]
    },
    {
      "cell_type": "code",
      "metadata": {
        "id": "d5R-tEnrtBty"
      },
      "source": [
        "import pandas as pd\n",
        "import numpy as np\n",
        "import matplotlib\n",
        "import matplotlib.pyplot as plt\n",
        "%matplotlib inline"
      ],
      "execution_count": 1,
      "outputs": []
    },
    {
      "cell_type": "code",
      "metadata": {
        "id": "1nynfTY_05lA"
      },
      "source": [
        "import seaborn as sns"
      ],
      "execution_count": 2,
      "outputs": []
    },
    {
      "cell_type": "code",
      "metadata": {
        "colab": {
          "base_uri": "https://localhost:8080/"
        },
        "id": "vUePRSHS1Ayo",
        "outputId": "429edfd1-906e-4b95-a3b8-9304bcf865b0"
      },
      "source": [
        "from google.colab import drive\n",
        "drive.mount('/content/drive')\n"
      ],
      "execution_count": 3,
      "outputs": [
        {
          "output_type": "stream",
          "text": [
            "Drive already mounted at /content/drive; to attempt to forcibly remount, call drive.mount(\"/content/drive\", force_remount=True).\n"
          ],
          "name": "stdout"
        }
      ]
    },
    {
      "cell_type": "code",
      "metadata": {
        "colab": {
          "base_uri": "https://localhost:8080/"
        },
        "id": "0E9kKkio3sKh",
        "outputId": "038d84d2-579e-45a7-867c-ba8a81a8f52d"
      },
      "source": [
        "path = '/content/drive/MyDrive/Colab Notebooks/Weekly_index.csv'\n",
        "df = pd.read_csv(path, parse_dates=['Date'])\n",
        "df.head()\n",
        "df.info()"
      ],
      "execution_count": 5,
      "outputs": [
        {
          "output_type": "stream",
          "text": [
            "<class 'pandas.core.frame.DataFrame'>\n",
            "RangeIndex: 413 entries, 0 to 412\n",
            "Data columns (total 3 columns):\n",
            " #   Column  Non-Null Count  Dtype         \n",
            "---  ------  --------------  -----         \n",
            " 0   Date    413 non-null    datetime64[ns]\n",
            " 1   Conc    410 non-null    float64       \n",
            " 2   w_i     410 non-null    float64       \n",
            "dtypes: datetime64[ns](1), float64(2)\n",
            "memory usage: 9.8 KB\n"
          ],
          "name": "stdout"
        }
      ]
    },
    {
      "cell_type": "code",
      "metadata": {
        "id": "kj7FuLLfzcDZ"
      },
      "source": [
        "df1 = df.reset_index().drop('index', axis = 1)"
      ],
      "execution_count": 11,
      "outputs": []
    },
    {
      "cell_type": "code",
      "metadata": {
        "colab": {
          "base_uri": "https://localhost:8080/",
          "height": 419
        },
        "id": "Xw0pCldxoOzb",
        "outputId": "30e209c0-79d6-44cd-99c7-5bfb8b2597d8"
      },
      "source": [
        "df1['Week'] = df1.Date.dt.isocalendar().week\n",
        "df1['Month'] = df1.Date.dt.month\n",
        "df1['Year'] = df1.Date.dt.year\n",
        "df_mod = df1.drop('Conc', axis =1)\n",
        "df_mod"
      ],
      "execution_count": 15,
      "outputs": [
        {
          "output_type": "execute_result",
          "data": {
            "text/html": [
              "<div>\n",
              "<style scoped>\n",
              "    .dataframe tbody tr th:only-of-type {\n",
              "        vertical-align: middle;\n",
              "    }\n",
              "\n",
              "    .dataframe tbody tr th {\n",
              "        vertical-align: top;\n",
              "    }\n",
              "\n",
              "    .dataframe thead th {\n",
              "        text-align: right;\n",
              "    }\n",
              "</style>\n",
              "<table border=\"1\" class=\"dataframe\">\n",
              "  <thead>\n",
              "    <tr style=\"text-align: right;\">\n",
              "      <th></th>\n",
              "      <th>Date</th>\n",
              "      <th>w_i</th>\n",
              "      <th>Week</th>\n",
              "      <th>Month</th>\n",
              "      <th>Year</th>\n",
              "    </tr>\n",
              "  </thead>\n",
              "  <tbody>\n",
              "    <tr>\n",
              "      <th>0</th>\n",
              "      <td>2003-01-05</td>\n",
              "      <td>1.837894</td>\n",
              "      <td>1</td>\n",
              "      <td>1</td>\n",
              "      <td>2003</td>\n",
              "    </tr>\n",
              "    <tr>\n",
              "      <th>1</th>\n",
              "      <td>2003-01-12</td>\n",
              "      <td>2.415117</td>\n",
              "      <td>2</td>\n",
              "      <td>1</td>\n",
              "      <td>2003</td>\n",
              "    </tr>\n",
              "    <tr>\n",
              "      <th>2</th>\n",
              "      <td>2003-01-19</td>\n",
              "      <td>0.661401</td>\n",
              "      <td>3</td>\n",
              "      <td>1</td>\n",
              "      <td>2003</td>\n",
              "    </tr>\n",
              "    <tr>\n",
              "      <th>3</th>\n",
              "      <td>2003-01-26</td>\n",
              "      <td>1.132399</td>\n",
              "      <td>4</td>\n",
              "      <td>1</td>\n",
              "      <td>2003</td>\n",
              "    </tr>\n",
              "    <tr>\n",
              "      <th>4</th>\n",
              "      <td>2003-02-02</td>\n",
              "      <td>0.479349</td>\n",
              "      <td>5</td>\n",
              "      <td>2</td>\n",
              "      <td>2003</td>\n",
              "    </tr>\n",
              "    <tr>\n",
              "      <th>...</th>\n",
              "      <td>...</td>\n",
              "      <td>...</td>\n",
              "      <td>...</td>\n",
              "      <td>...</td>\n",
              "      <td>...</td>\n",
              "    </tr>\n",
              "    <tr>\n",
              "      <th>408</th>\n",
              "      <td>2010-11-28</td>\n",
              "      <td>0.434637</td>\n",
              "      <td>47</td>\n",
              "      <td>11</td>\n",
              "      <td>2010</td>\n",
              "    </tr>\n",
              "    <tr>\n",
              "      <th>409</th>\n",
              "      <td>2010-12-05</td>\n",
              "      <td>1.679278</td>\n",
              "      <td>48</td>\n",
              "      <td>12</td>\n",
              "      <td>2010</td>\n",
              "    </tr>\n",
              "    <tr>\n",
              "      <th>410</th>\n",
              "      <td>2010-12-12</td>\n",
              "      <td>0.405002</td>\n",
              "      <td>49</td>\n",
              "      <td>12</td>\n",
              "      <td>2010</td>\n",
              "    </tr>\n",
              "    <tr>\n",
              "      <th>411</th>\n",
              "      <td>2010-12-19</td>\n",
              "      <td>0.958176</td>\n",
              "      <td>50</td>\n",
              "      <td>12</td>\n",
              "      <td>2010</td>\n",
              "    </tr>\n",
              "    <tr>\n",
              "      <th>412</th>\n",
              "      <td>2010-12-26</td>\n",
              "      <td>0.612443</td>\n",
              "      <td>51</td>\n",
              "      <td>12</td>\n",
              "      <td>2010</td>\n",
              "    </tr>\n",
              "  </tbody>\n",
              "</table>\n",
              "<p>413 rows × 5 columns</p>\n",
              "</div>"
            ],
            "text/plain": [
              "          Date       w_i  Week  Month  Year\n",
              "0   2003-01-05  1.837894     1      1  2003\n",
              "1   2003-01-12  2.415117     2      1  2003\n",
              "2   2003-01-19  0.661401     3      1  2003\n",
              "3   2003-01-26  1.132399     4      1  2003\n",
              "4   2003-02-02  0.479349     5      2  2003\n",
              "..         ...       ...   ...    ...   ...\n",
              "408 2010-11-28  0.434637    47     11  2010\n",
              "409 2010-12-05  1.679278    48     12  2010\n",
              "410 2010-12-12  0.405002    49     12  2010\n",
              "411 2010-12-19  0.958176    50     12  2010\n",
              "412 2010-12-26  0.612443    51     12  2010\n",
              "\n",
              "[413 rows x 5 columns]"
            ]
          },
          "metadata": {
            "tags": []
          },
          "execution_count": 15
        }
      ]
    },
    {
      "cell_type": "code",
      "metadata": {
        "colab": {
          "base_uri": "https://localhost:8080/",
          "height": 421
        },
        "id": "XHb-mfDhnsxU",
        "outputId": "d042d970-4099-429a-85a2-2edf450fa2ab"
      },
      "source": [
        "df03 = df_mod[df_mod['Year'] == 2003]\n",
        "df03_m = df03.groupby(by = 'Month').mean()\n",
        "df03_m.reset_index(inplace = True)\n",
        "df03_m = df03_m.drop(['Week', 'Year'], axis = 1)\n",
        "df03_m.columns = ['Month', '2003']\n",
        "df03_m"
      ],
      "execution_count": 27,
      "outputs": [
        {
          "output_type": "execute_result",
          "data": {
            "text/html": [
              "<div>\n",
              "<style scoped>\n",
              "    .dataframe tbody tr th:only-of-type {\n",
              "        vertical-align: middle;\n",
              "    }\n",
              "\n",
              "    .dataframe tbody tr th {\n",
              "        vertical-align: top;\n",
              "    }\n",
              "\n",
              "    .dataframe thead th {\n",
              "        text-align: right;\n",
              "    }\n",
              "</style>\n",
              "<table border=\"1\" class=\"dataframe\">\n",
              "  <thead>\n",
              "    <tr style=\"text-align: right;\">\n",
              "      <th></th>\n",
              "      <th>Month</th>\n",
              "      <th>2003</th>\n",
              "    </tr>\n",
              "  </thead>\n",
              "  <tbody>\n",
              "    <tr>\n",
              "      <th>0</th>\n",
              "      <td>1</td>\n",
              "      <td>1.511703</td>\n",
              "    </tr>\n",
              "    <tr>\n",
              "      <th>1</th>\n",
              "      <td>2</td>\n",
              "      <td>0.858903</td>\n",
              "    </tr>\n",
              "    <tr>\n",
              "      <th>2</th>\n",
              "      <td>3</td>\n",
              "      <td>1.121710</td>\n",
              "    </tr>\n",
              "    <tr>\n",
              "      <th>3</th>\n",
              "      <td>4</td>\n",
              "      <td>1.029055</td>\n",
              "    </tr>\n",
              "    <tr>\n",
              "      <th>4</th>\n",
              "      <td>5</td>\n",
              "      <td>1.219667</td>\n",
              "    </tr>\n",
              "    <tr>\n",
              "      <th>5</th>\n",
              "      <td>6</td>\n",
              "      <td>0.994440</td>\n",
              "    </tr>\n",
              "    <tr>\n",
              "      <th>6</th>\n",
              "      <td>7</td>\n",
              "      <td>0.977070</td>\n",
              "    </tr>\n",
              "    <tr>\n",
              "      <th>7</th>\n",
              "      <td>8</td>\n",
              "      <td>0.765622</td>\n",
              "    </tr>\n",
              "    <tr>\n",
              "      <th>8</th>\n",
              "      <td>9</td>\n",
              "      <td>0.782491</td>\n",
              "    </tr>\n",
              "    <tr>\n",
              "      <th>9</th>\n",
              "      <td>10</td>\n",
              "      <td>0.731550</td>\n",
              "    </tr>\n",
              "    <tr>\n",
              "      <th>10</th>\n",
              "      <td>11</td>\n",
              "      <td>1.034191</td>\n",
              "    </tr>\n",
              "    <tr>\n",
              "      <th>11</th>\n",
              "      <td>12</td>\n",
              "      <td>0.994607</td>\n",
              "    </tr>\n",
              "  </tbody>\n",
              "</table>\n",
              "</div>"
            ],
            "text/plain": [
              "    Month      2003\n",
              "0       1  1.511703\n",
              "1       2  0.858903\n",
              "2       3  1.121710\n",
              "3       4  1.029055\n",
              "4       5  1.219667\n",
              "5       6  0.994440\n",
              "6       7  0.977070\n",
              "7       8  0.765622\n",
              "8       9  0.782491\n",
              "9      10  0.731550\n",
              "10     11  1.034191\n",
              "11     12  0.994607"
            ]
          },
          "metadata": {
            "tags": []
          },
          "execution_count": 27
        }
      ]
    }
  ]
}